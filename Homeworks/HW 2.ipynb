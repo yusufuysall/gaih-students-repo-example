{
 "cells": [
  {
   "cell_type": "code",
   "execution_count": 1,
   "metadata": {},
   "outputs": [
    {
     "name": "stdout",
     "output_type": "stream",
     "text": [
      "WELCOME TO MY DREAM WORLD PLEASE FOLLOWİNG TO STEP\n",
      "please enter the usernamerakun16\n",
      "please enter the passwordkedi11\n",
      "!!congratulations!! winner winner chicken dinner\n"
     ]
    }
   ],
   "source": [
    "print(\"WELCOME TO MY DREAM WORLD PLEASE FOLLOWİNG TO STEP\")\n",
    "\n",
    "user_name=\"rakun16\"\n",
    "password=\"kedi11\"\n",
    "\n",
    "user_name1 =input(\"please enter the username\")\n",
    "password1 =input(\"please enter the password\")\n",
    "\n",
    "if  (user_name !=user_name1 and password == password1):\n",
    "        print(\"mistaken username\")\n",
    "elif (user_name ==user_name1 and password != password1):\n",
    "        print(\"mistaken password\")\n",
    "elif (user_name !=user_name1 and password != password1):  \n",
    "        print(\"mistaken username and password\")\n",
    "else :\n",
    "     print(\"!!congratulations!! winner winner chicken dinner\")"
   ]
  }
 ],
 "metadata": {
  "kernelspec": {
   "display_name": "Python 3",
   "language": "python",
   "name": "python3"
  },
  "language_info": {
   "codemirror_mode": {
    "name": "ipython",
    "version": 3
   },
   "file_extension": ".py",
   "mimetype": "text/x-python",
   "name": "python",
   "nbconvert_exporter": "python",
   "pygments_lexer": "ipython3",
   "version": "3.8.5"
  }
 },
 "nbformat": 4,
 "nbformat_minor": 4
}
